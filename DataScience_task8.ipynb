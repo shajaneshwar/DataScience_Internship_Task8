{
 "cells": [
  {
   "cell_type": "markdown",
   "id": "64ecb6eb-f08c-4395-863d-0c7e8326d3ce",
   "metadata": {},
   "source": [
    "# SECTION 1: Feature Engineering & Model Tuning"
   ]
  },
  {
   "cell_type": "markdown",
   "id": "3af717f4-9af7-40ce-a47a-15cac8092e2c",
   "metadata": {},
   "source": [
    "# Import Required Libraries"
   ]
  },
  {
   "cell_type": "code",
   "execution_count": 5,
   "id": "fe3b2233-7593-46f6-a752-783e4bc4d416",
   "metadata": {},
   "outputs": [],
   "source": [
    "import pandas as pd\n",
    "import numpy as np\n",
    "from sklearn.model_selection import train_test_split, GridSearchCV\n",
    "from sklearn.preprocessing import LabelEncoder\n",
    "from sklearn.tree import DecisionTreeClassifier\n",
    "from sklearn.metrics import classification_report, confusion_matrix\n",
    "import matplotlib.pyplot as plt\n",
    "import seaborn as sns\n"
   ]
  },
  {
   "cell_type": "markdown",
   "id": "bc390c96-e5a6-487c-a4eb-2573d947c646",
   "metadata": {},
   "source": [
    "#  Load and Inspect Dataset"
   ]
  },
  {
   "cell_type": "code",
   "execution_count": 9,
   "id": "ce904040-5cf0-4695-b85a-e48849b0a456",
   "metadata": {},
   "outputs": [
    {
     "name": "stdout",
     "output_type": "stream",
     "text": [
      "   Transaction ID   Amount    Type  Is Fraud\n",
      "0               1  1873.33  credit         0\n",
      "1               2  4753.62   debit         0\n",
      "2               3  3660.24   debit         0\n",
      "3               4  2993.69   debit         0\n",
      "4               5   780.94   debit         0\n",
      "<class 'pandas.core.frame.DataFrame'>\n",
      "RangeIndex: 1000 entries, 0 to 999\n",
      "Data columns (total 4 columns):\n",
      " #   Column          Non-Null Count  Dtype  \n",
      "---  ------          --------------  -----  \n",
      " 0   Transaction ID  1000 non-null   int64  \n",
      " 1   Amount          1000 non-null   float64\n",
      " 2   Type            1000 non-null   object \n",
      " 3   Is Fraud        1000 non-null   int64  \n",
      "dtypes: float64(1), int64(2), object(1)\n",
      "memory usage: 31.4+ KB\n",
      "None\n",
      "Transaction ID    0\n",
      "Amount            0\n",
      "Type              0\n",
      "Is Fraud          0\n",
      "dtype: int64\n"
     ]
    }
   ],
   "source": [
    "df = pd.read_csv(\"fraud_detection.csv\")\n",
    "print(df.head())\n",
    "print(df.info())\n",
    "print(df.isnull().sum())\n"
   ]
  },
  {
   "cell_type": "markdown",
   "id": "240ee3b5-0b60-465d-9c2f-8661a12a9d76",
   "metadata": {},
   "source": [
    "# Preprocess Data"
   ]
  },
  {
   "cell_type": "code",
   "execution_count": 11,
   "id": "07a65da3-ac38-4a5a-95e2-fc4e62f4cb9a",
   "metadata": {},
   "outputs": [],
   "source": [
    "# Encode 'Type' column\n",
    "label_encoder = LabelEncoder()\n",
    "df['Type'] = label_encoder.fit_transform(df['Type'])\n",
    "\n",
    "# Drop Transaction ID if it's not useful\n",
    "df = df.drop(['Transaction ID'], axis=1)\n"
   ]
  },
  {
   "cell_type": "markdown",
   "id": "4d0dff59-5a81-41b1-8905-fb89eaf430ef",
   "metadata": {},
   "source": [
    "#  SECTION 2: Feature Engineering"
   ]
  },
  {
   "cell_type": "markdown",
   "id": "d32d2850-9602-4485-bcf6-b0d3e819174f",
   "metadata": {},
   "source": [
    "# Create New Features"
   ]
  },
  {
   "cell_type": "code",
   "execution_count": 13,
   "id": "19b33316-6c07-4acc-a3c1-5b87078208b4",
   "metadata": {},
   "outputs": [],
   "source": [
    "df['HighAmount'] = (df['Amount'] > 2000).astype(int)\n",
    "df['Amount_log'] = np.log1p(df['Amount'])\n"
   ]
  },
  {
   "cell_type": "markdown",
   "id": "6c5043e1-6d17-460c-a047-d16816976561",
   "metadata": {},
   "source": [
    "# Split Dataset"
   ]
  },
  {
   "cell_type": "code",
   "execution_count": 15,
   "id": "29d6de2d-58c7-4d67-b34f-39b27260aaab",
   "metadata": {},
   "outputs": [],
   "source": [
    "X = df.drop('Is Fraud', axis=1)\n",
    "y = df['Is Fraud']\n",
    "\n",
    "X_train, X_test, y_train, y_test = train_test_split(X, y, test_size=0.2, random_state=42)\n"
   ]
  },
  {
   "cell_type": "markdown",
   "id": "2d2d0245-8c15-418f-aef8-643bc8bef468",
   "metadata": {},
   "source": [
    "# SECTION 3: Train Decision Tree Model"
   ]
  },
  {
   "cell_type": "markdown",
   "id": "c957d532-31ef-4128-b2e5-fdd289a18380",
   "metadata": {},
   "source": [
    "# Train Initial Model"
   ]
  },
  {
   "cell_type": "code",
   "execution_count": 17,
   "id": "d806ec51-f000-44cc-8aac-d1496c4813d0",
   "metadata": {},
   "outputs": [],
   "source": [
    "model = DecisionTreeClassifier(random_state=42)\n",
    "model.fit(X_train, y_train)\n",
    "y_pred = model.predict(X_test)\n"
   ]
  },
  {
   "cell_type": "markdown",
   "id": "dd17308a-e802-434a-ad94-49c87f834e25",
   "metadata": {},
   "source": [
    "# Evaluate Initial Model"
   ]
  },
  {
   "cell_type": "code",
   "execution_count": 19,
   "id": "78274570-925c-46c5-9226-52107b93ff55",
   "metadata": {},
   "outputs": [
    {
     "name": "stdout",
     "output_type": "stream",
     "text": [
      "[[169  19]\n",
      " [ 12   0]]\n",
      "              precision    recall  f1-score   support\n",
      "\n",
      "           0       0.93      0.90      0.92       188\n",
      "           1       0.00      0.00      0.00        12\n",
      "\n",
      "    accuracy                           0.84       200\n",
      "   macro avg       0.47      0.45      0.46       200\n",
      "weighted avg       0.88      0.84      0.86       200\n",
      "\n"
     ]
    }
   ],
   "source": [
    "print(confusion_matrix(y_test, y_pred))\n",
    "print(classification_report(y_test, y_pred))\n"
   ]
  },
  {
   "cell_type": "markdown",
   "id": "da9e8eec-3cce-4a63-a3b4-055637705a06",
   "metadata": {},
   "source": [
    "# SECTION 4: Hyperparameter Tuning"
   ]
  },
  {
   "cell_type": "markdown",
   "id": "cd97b0ff-a309-4460-8db0-d02ceadf5771",
   "metadata": {},
   "source": [
    "#  Use GridSearchCV"
   ]
  },
  {
   "cell_type": "code",
   "execution_count": 21,
   "id": "14a825cb-72c5-4c35-a852-844cb9cfa40c",
   "metadata": {},
   "outputs": [
    {
     "name": "stdout",
     "output_type": "stream",
     "text": [
      "Fitting 5 folds for each of 72 candidates, totalling 360 fits\n",
      "Best Parameters: {'criterion': 'gini', 'max_depth': None, 'min_samples_leaf': 1, 'min_samples_split': 2}\n"
     ]
    }
   ],
   "source": [
    "param_grid = {\n",
    "    'max_depth': [3, 5, 10, None],\n",
    "    'min_samples_split': [2, 5, 10],\n",
    "    'min_samples_leaf': [1, 2, 4],\n",
    "    'criterion': ['gini', 'entropy']\n",
    "}\n",
    "\n",
    "grid_search = GridSearchCV(DecisionTreeClassifier(random_state=42),\n",
    "                           param_grid,\n",
    "                           scoring='f1',\n",
    "                           cv=5,\n",
    "                           verbose=1)\n",
    "\n",
    "grid_search.fit(X_train, y_train)\n",
    "\n",
    "print(\"Best Parameters:\", grid_search.best_params_)\n",
    "best_model = grid_search.best_estimator_\n"
   ]
  },
  {
   "cell_type": "markdown",
   "id": "4c760f65-5af6-471c-848d-da24d904f9a8",
   "metadata": {},
   "source": [
    "# Evaluate Tuned Model"
   ]
  },
  {
   "cell_type": "code",
   "execution_count": 43,
   "id": "0ae72261-8e04-40e1-9280-51fdbe1647ca",
   "metadata": {},
   "outputs": [
    {
     "name": "stdout",
     "output_type": "stream",
     "text": [
      "[[169  19]\n",
      " [ 12   0]]\n",
      "              precision    recall  f1-score   support\n",
      "\n",
      "           0       0.93      0.90      0.92       188\n",
      "           1       0.00      0.00      0.00        12\n",
      "\n",
      "    accuracy                           0.84       200\n",
      "   macro avg       0.47      0.45      0.46       200\n",
      "weighted avg       0.88      0.84      0.86       200\n",
      "\n"
     ]
    }
   ],
   "source": [
    "y_pred_best = best_model.predict(X_test)\n",
    "\n",
    "print(confusion_matrix(y_test, y_pred_best))\n",
    "print(classification_report(y_test, y_pred_best))\n"
   ]
  },
  {
   "cell_type": "markdown",
   "id": "b7301580-6f5d-450c-a47e-e0176ab6ffde",
   "metadata": {},
   "source": [
    "# Recommendations & Deliverables"
   ]
  },
  {
   "cell_type": "code",
   "execution_count": 25,
   "id": "2912956b-c103-4f82-a64f-af40baa9ef2a",
   "metadata": {},
   "outputs": [
    {
     "data": {
      "image/png": "[encoded data removed]",
      "text/plain": [
       "<Figure size 1000x600 with 1 Axes>"
      ]
     },
     "metadata": {},
     "output_type": "display_data"
    }
   ],
   "source": [
    "# Plot feature importance\n",
    "importances = best_model.feature_importances_\n",
    "features = X.columns\n",
    "plt.figure(figsize=(10, 6))\n",
    "sns.barplot(x=importances, y=features)\n",
    "plt.title('Feature Importances')\n",
    "plt.show()\n"
   ]
  }
 ],
 "metadata": {
  "kernelspec": {
   "display_name": "Python [conda env:base] *",
   "language": "python",
   "name": "conda-base-py"
  },
  "language_info": {
   "codemirror_mode": {
    "name": "ipython",
    "version": 3
   },
   "file_extension": ".py",
   "mimetype": "text/x-python",
   "name": "python",
   "nbconvert_exporter": "python",
   "pygments_lexer": "ipython3",
   "version": "3.12.7"
  }
 },
 "nbformat": 4,
 "nbformat_minor": 5
}
